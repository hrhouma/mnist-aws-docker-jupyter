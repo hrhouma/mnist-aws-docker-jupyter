{
 "cells": [
  {
   "cell_type": "code",
   "execution_count": 1,
   "id": "d11bf257-ecff-4f4c-92f6-c673b908dacb",
   "metadata": {},
   "outputs": [
    {
     "name": "stdout",
     "output_type": "stream",
     "text": [
      "Requirement already satisfied: numpy in /home/ubuntu/install-docker/monenv/lib/python3.10/site-packages (1.26.4)\n",
      "Requirement already satisfied: tensorflow in /home/ubuntu/install-docker/monenv/lib/python3.10/site-packages (2.16.1)\n",
      "Requirement already satisfied: pillow in /home/ubuntu/install-docker/monenv/lib/python3.10/site-packages (10.3.0)\n",
      "Requirement already satisfied: setuptools in /home/ubuntu/install-docker/monenv/lib/python3.10/site-packages (from tensorflow) (59.6.0)\n",
      "Requirement already satisfied: termcolor>=1.1.0 in /home/ubuntu/install-docker/monenv/lib/python3.10/site-packages (from tensorflow) (2.4.0)\n",
      "Requirement already satisfied: wrapt>=1.11.0 in /home/ubuntu/install-docker/monenv/lib/python3.10/site-packages (from tensorflow) (1.16.0)\n",
      "Requirement already satisfied: typing-extensions>=3.6.6 in /home/ubuntu/install-docker/monenv/lib/python3.10/site-packages (from tensorflow) (4.11.0)\n",
      "Requirement already satisfied: six>=1.12.0 in /home/ubuntu/install-docker/monenv/lib/python3.10/site-packages (from tensorflow) (1.16.0)\n",
      "Requirement already satisfied: grpcio<2.0,>=1.24.3 in /home/ubuntu/install-docker/monenv/lib/python3.10/site-packages (from tensorflow) (1.63.0)\n",
      "Requirement already satisfied: libclang>=13.0.0 in /home/ubuntu/install-docker/monenv/lib/python3.10/site-packages (from tensorflow) (18.1.1)\n",
      "Requirement already satisfied: gast!=0.5.0,!=0.5.1,!=0.5.2,>=0.2.1 in /home/ubuntu/install-docker/monenv/lib/python3.10/site-packages (from tensorflow) (0.5.4)\n",
      "Requirement already satisfied: astunparse>=1.6.0 in /home/ubuntu/install-docker/monenv/lib/python3.10/site-packages (from tensorflow) (1.6.3)\n",
      "Requirement already satisfied: protobuf!=4.21.0,!=4.21.1,!=4.21.2,!=4.21.3,!=4.21.4,!=4.21.5,<5.0.0dev,>=3.20.3 in /home/ubuntu/install-docker/monenv/lib/python3.10/site-packages (from tensorflow) (4.25.3)\n",
      "Requirement already satisfied: tensorboard<2.17,>=2.16 in /home/ubuntu/install-docker/monenv/lib/python3.10/site-packages (from tensorflow) (2.16.2)\n",
      "Requirement already satisfied: packaging in /home/ubuntu/install-docker/monenv/lib/python3.10/site-packages (from tensorflow) (24.0)\n",
      "Requirement already satisfied: flatbuffers>=23.5.26 in /home/ubuntu/install-docker/monenv/lib/python3.10/site-packages (from tensorflow) (24.3.25)\n",
      "Requirement already satisfied: google-pasta>=0.1.1 in /home/ubuntu/install-docker/monenv/lib/python3.10/site-packages (from tensorflow) (0.2.0)\n",
      "Requirement already satisfied: keras>=3.0.0 in /home/ubuntu/install-docker/monenv/lib/python3.10/site-packages (from tensorflow) (3.3.3)\n",
      "Requirement already satisfied: ml-dtypes~=0.3.1 in /home/ubuntu/install-docker/monenv/lib/python3.10/site-packages (from tensorflow) (0.3.2)\n",
      "Requirement already satisfied: h5py>=3.10.0 in /home/ubuntu/install-docker/monenv/lib/python3.10/site-packages (from tensorflow) (3.11.0)\n",
      "Requirement already satisfied: opt-einsum>=2.3.2 in /home/ubuntu/install-docker/monenv/lib/python3.10/site-packages (from tensorflow) (3.3.0)\n",
      "Requirement already satisfied: absl-py>=1.0.0 in /home/ubuntu/install-docker/monenv/lib/python3.10/site-packages (from tensorflow) (2.1.0)\n",
      "Requirement already satisfied: tensorflow-io-gcs-filesystem>=0.23.1 in /home/ubuntu/install-docker/monenv/lib/python3.10/site-packages (from tensorflow) (0.37.0)\n",
      "Requirement already satisfied: requests<3,>=2.21.0 in /home/ubuntu/install-docker/monenv/lib/python3.10/site-packages (from tensorflow) (2.31.0)\n",
      "Requirement already satisfied: wheel<1.0,>=0.23.0 in /home/ubuntu/install-docker/monenv/lib/python3.10/site-packages (from astunparse>=1.6.0->tensorflow) (0.43.0)\n",
      "Requirement already satisfied: optree in /home/ubuntu/install-docker/monenv/lib/python3.10/site-packages (from keras>=3.0.0->tensorflow) (0.11.0)\n",
      "Requirement already satisfied: rich in /home/ubuntu/install-docker/monenv/lib/python3.10/site-packages (from keras>=3.0.0->tensorflow) (13.7.1)\n",
      "Requirement already satisfied: namex in /home/ubuntu/install-docker/monenv/lib/python3.10/site-packages (from keras>=3.0.0->tensorflow) (0.0.8)\n",
      "Requirement already satisfied: certifi>=2017.4.17 in /home/ubuntu/install-docker/monenv/lib/python3.10/site-packages (from requests<3,>=2.21.0->tensorflow) (2024.2.2)\n",
      "Requirement already satisfied: charset-normalizer<4,>=2 in /home/ubuntu/install-docker/monenv/lib/python3.10/site-packages (from requests<3,>=2.21.0->tensorflow) (3.3.2)\n",
      "Requirement already satisfied: urllib3<3,>=1.21.1 in /home/ubuntu/install-docker/monenv/lib/python3.10/site-packages (from requests<3,>=2.21.0->tensorflow) (2.2.1)\n",
      "Requirement already satisfied: idna<4,>=2.5 in /home/ubuntu/install-docker/monenv/lib/python3.10/site-packages (from requests<3,>=2.21.0->tensorflow) (3.7)\n",
      "Requirement already satisfied: tensorboard-data-server<0.8.0,>=0.7.0 in /home/ubuntu/install-docker/monenv/lib/python3.10/site-packages (from tensorboard<2.17,>=2.16->tensorflow) (0.7.2)\n",
      "Requirement already satisfied: markdown>=2.6.8 in /home/ubuntu/install-docker/monenv/lib/python3.10/site-packages (from tensorboard<2.17,>=2.16->tensorflow) (3.6)\n",
      "Requirement already satisfied: werkzeug>=1.0.1 in /home/ubuntu/install-docker/monenv/lib/python3.10/site-packages (from tensorboard<2.17,>=2.16->tensorflow) (3.0.3)\n",
      "Requirement already satisfied: MarkupSafe>=2.1.1 in /home/ubuntu/install-docker/monenv/lib/python3.10/site-packages (from werkzeug>=1.0.1->tensorboard<2.17,>=2.16->tensorflow) (2.1.5)\n",
      "Requirement already satisfied: pygments<3.0.0,>=2.13.0 in /home/ubuntu/install-docker/monenv/lib/python3.10/site-packages (from rich->keras>=3.0.0->tensorflow) (2.18.0)\n",
      "Requirement already satisfied: markdown-it-py>=2.2.0 in /home/ubuntu/install-docker/monenv/lib/python3.10/site-packages (from rich->keras>=3.0.0->tensorflow) (3.0.0)\n",
      "Requirement already satisfied: mdurl~=0.1 in /home/ubuntu/install-docker/monenv/lib/python3.10/site-packages (from markdown-it-py>=2.2.0->rich->keras>=3.0.0->tensorflow) (0.1.2)\n"
     ]
    }
   ],
   "source": [
    "!pip install numpy tensorflow pillow\n"
   ]
  },
  {
   "cell_type": "code",
   "execution_count": 2,
   "id": "8523d7f5-aea1-4aff-800b-2446e0cb9de3",
   "metadata": {},
   "outputs": [
    {
     "name": "stderr",
     "output_type": "stream",
     "text": [
      "2024-05-19 16:03:39.746396: I external/local_tsl/tsl/cuda/cudart_stub.cc:32] Could not find cuda drivers on your machine, GPU will not be used.\n",
      "2024-05-19 16:03:39.750547: I external/local_tsl/tsl/cuda/cudart_stub.cc:32] Could not find cuda drivers on your machine, GPU will not be used.\n",
      "2024-05-19 16:03:39.810091: I tensorflow/core/platform/cpu_feature_guard.cc:210] This TensorFlow binary is optimized to use available CPU instructions in performance-critical operations.\n",
      "To enable the following instructions: AVX2 FMA, in other operations, rebuild TensorFlow with the appropriate compiler flags.\n",
      "2024-05-19 16:03:40.854082: W tensorflow/compiler/tf2tensorrt/utils/py_utils.cc:38] TF-TRT Warning: Could not find TensorRT\n"
     ]
    },
    {
     "name": "stdout",
     "output_type": "stream",
     "text": [
      "Image 0 sauvegardée à l'emplacement : mnist_images/mnist_0.png\n",
      "Image 1 sauvegardée à l'emplacement : mnist_images/mnist_1.png\n",
      "Image 2 sauvegardée à l'emplacement : mnist_images/mnist_2.png\n",
      "Image 3 sauvegardée à l'emplacement : mnist_images/mnist_3.png\n",
      "Image 4 sauvegardée à l'emplacement : mnist_images/mnist_4.png\n",
      "Image 5 sauvegardée à l'emplacement : mnist_images/mnist_5.png\n",
      "Image 6 sauvegardée à l'emplacement : mnist_images/mnist_6.png\n",
      "Image 7 sauvegardée à l'emplacement : mnist_images/mnist_7.png\n",
      "Image 8 sauvegardée à l'emplacement : mnist_images/mnist_8.png\n",
      "Image 9 sauvegardée à l'emplacement : mnist_images/mnist_9.png\n"
     ]
    }
   ],
   "source": [
    "import os\n",
    "import numpy as np\n",
    "from tensorflow.keras.datasets import mnist\n",
    "from PIL import Image\n",
    "\n",
    "# Définir le chemin où vous souhaitez enregistrer les images MNIST\n",
    "save_path = 'mnist_images'\n",
    "if not os.path.exists(save_path):\n",
    "    os.makedirs(save_path)\n",
    "\n",
    "# Charger les données MNIST\n",
    "(x_train, _), (_, _) = mnist.load_data()\n",
    "\n",
    "# Sauvegarder les 10 premières images MNIST\n",
    "for i in range(10):\n",
    "    image = Image.fromarray(x_train[i])\n",
    "    image_path = os.path.join(save_path, f'mnist_{i}.png')\n",
    "    image.save(image_path)\n",
    "    print(f'Image {i} sauvegardée à l\\'emplacement : {image_path}')\n"
   ]
  },
  {
   "cell_type": "code",
   "execution_count": 5,
   "id": "9b9fffcf-5696-4954-83a7-8c650dc701c3",
   "metadata": {},
   "outputs": [
    {
     "name": "stdout",
     "output_type": "stream",
     "text": [
      "Prediction = {\"prediction\":5}\n",
      "\n"
     ]
    }
   ],
   "source": [
    "import requests\n",
    "import json\n",
    "from PIL import Image\n",
    "import numpy as np\n",
    "import os\n",
    "\n",
    "# Define the path where the MNIST images are saved\n",
    "save_path = 'mnist_images'\n",
    "\n",
    "# Choose an image for prediction (e.g., the first MNIST image)\n",
    "selected_image_idx = 0\n",
    "image_path = os.path.join(save_path, f'mnist_{selected_image_idx}.png')\n",
    "\n",
    "# Load the image with PIL and prepare it for the model\n",
    "img = Image.open(image_path).convert('L')\n",
    "img = img.resize((28, 28))\n",
    "img_array = np.array(img) / 255.0\n",
    "img_array = img_array.reshape(1, 28, 28, 1)\n",
    "img_list = img_array.tolist()\n",
    "\n",
    "# URL of your Flask service\n",
    "URL = 'http://54.196.41.2:5000/predict'\n",
    "\n",
    "# Prepare the data to be sent\n",
    "data = json.dumps({'image': img_list})\n",
    "\n",
    "# Set headers for the request\n",
    "headers = {'Content-Type': 'application/json'}\n",
    "\n",
    "# Send the POST request with the image data\n",
    "result = requests.post(URL, data=data, headers=headers)\n",
    "\n",
    "# Display the server's response\n",
    "print(f\"Prediction = {result.text}\")\n",
    "\n"
   ]
  },
  {
   "cell_type": "code",
   "execution_count": 4,
   "id": "74db568f-2b4d-4eb6-8917-e2bb88d95e81",
   "metadata": {},
   "outputs": [
    {
     "name": "stdout",
     "output_type": "stream",
     "text": [
      "Prediction = {'prediction': 5}\n",
      "Predicted Class: 5\n"
     ]
    },
    {
     "data": {
      "image/png": "[encoded data removed]",
      "text/plain": [
       "<Figure size 800x400 with 2 Axes>"
      ]
     },
     "metadata": {},
     "output_type": "display_data"
    }
   ],
   "source": [
    "import requests\n",
    "import json\n",
    "from PIL import Image\n",
    "import numpy as np\n",
    "import os\n",
    "import matplotlib.pyplot as plt\n",
    "\n",
    "# Define the path where the MNIST images are saved\n",
    "save_path = 'mnist_images'\n",
    "\n",
    "# Choose an image for prediction (e.g., the first MNIST image)\n",
    "selected_image_idx = 0\n",
    "image_path = os.path.join(save_path, f'mnist_{selected_image_idx}.png')\n",
    "\n",
    "# Load the image with PIL and prepare it for the model\n",
    "img = Image.open(image_path).convert('L')\n",
    "img = img.resize((28, 28))\n",
    "img_array = np.array(img) / 255.0\n",
    "img_array = img_array.reshape(1, 28, 28, 1)\n",
    "img_list = img_array.tolist()\n",
    "\n",
    "# URL of your Flask service\n",
    "URL = 'http://54.196.41.2:5000/predict'\n",
    "\n",
    "# Prepare the data to be sent\n",
    "data = json.dumps({'image': img_list})\n",
    "\n",
    "# Set headers for the request\n",
    "headers = {'Content-Type': 'application/json'}\n",
    "\n",
    "# Send the POST request with the image data\n",
    "result = requests.post(URL, data=data, headers=headers)\n",
    "response = result.json()\n",
    "\n",
    "# Display the server's response\n",
    "print(f\"Prediction = {response}\")\n",
    "\n",
    "# Assuming MNIST (0-9 digits), but if it's Fashion MNIST, you can create a similar dictionary\n",
    "#class_names = [\"T-shirt/top\", \"Trouser\", \"Pullover\", ..., \"Ankle boot\"]\n",
    "class_names = [str(i) for i in range(10)]  # For MNIST digits\n",
    "predicted_class = class_names[response['prediction']]\n",
    "\n",
    "print(f\"Predicted Class: {predicted_class}\")\n",
    "\n",
    "# Display the original and predicted images\n",
    "plt.figure(figsize=(8, 4))\n",
    "plt.subplot(1, 2, 1)\n",
    "plt.imshow(img_array.reshape(28, 28), cmap='gray')\n",
    "plt.title(\"Original Image\")\n",
    "plt.subplot(1, 2, 2)\n",
    "plt.imshow(img_array.reshape(28, 28), cmap='gray')\n",
    "plt.title(f\"Predicted: {predicted_class}\")\n",
    "plt.show()\n"
   ]
  },
  {
   "cell_type": "code",
   "execution_count": 6,
   "id": "e5fec24c-63c1-46a3-b147-72bab631dc70",
   "metadata": {
    "scrolled": true
   },
   "outputs": [
    {
     "name": "stdout",
     "output_type": "stream",
     "text": [
      "Raw Response Text: {\"prediction\":5}\n",
      "\n",
      "Status Code: 200\n",
      "Prediction = {'prediction': 5}\n",
      "Predicted Class: 5\n"
     ]
    },
    {
     "data": {
      "image/png": "[encoded data removed]",
      "text/plain": [
       "<Figure size 800x400 with 2 Axes>"
      ]
     },
     "metadata": {},
     "output_type": "display_data"
    }
   ],
   "source": [
    "import requests\n",
    "import json\n",
    "from PIL import Image\n",
    "import numpy as np\n",
    "import os\n",
    "import matplotlib.pyplot as plt\n",
    "\n",
    "# Define the path where the MNIST images are saved\n",
    "save_path = 'mnist_images'\n",
    "\n",
    "# Choose an image for prediction (e.g., the first MNIST image)\n",
    "selected_image_idx = 0\n",
    "image_path = os.path.join(save_path, f'mnist_{selected_image_idx}.png')\n",
    "\n",
    "# Load the image with PIL and prepare it for the model\n",
    "img = Image.open(image_path).convert('L')\n",
    "img = img.resize((28, 28))\n",
    "img_array = np.array(img) / 255.0\n",
    "img_array = img_array.reshape(1, 28, 28, 1)\n",
    "img_list = img_array.tolist()\n",
    "\n",
    "# URL of your Flask service\n",
    "URL = 'http://54.196.41.2:5000/predict'\n",
    "\n",
    "# Prepare the data to be sent\n",
    "data = json.dumps({'image': img_list})\n",
    "\n",
    "# Set headers for the request\n",
    "headers = {'Content-Type': 'application/json'}\n",
    "\n",
    "# Send the POST request with the image data\n",
    "result = requests.post(URL, data=data, headers=headers)\n",
    "\n",
    "# Print raw response text for debugging\n",
    "print(f\"Raw Response Text: {result.text}\")\n",
    "\n",
    "# Check the status code\n",
    "print(f\"Status Code: {result.status_code}\")\n",
    "\n",
    "if result.status_code == 200:\n",
    "    try:\n",
    "        # Try to parse the JSON response\n",
    "        response = result.json()\n",
    "        print(f\"Prediction = {response}\")\n",
    "        \n",
    "        # Assuming MNIST (0-9 digits), but if it's Fashion MNIST, you can create a similar dictionary\n",
    "        class_names = [str(i) for i in range(10)]  # For MNIST digits\n",
    "        predicted_class = class_names[response['prediction']]\n",
    "        \n",
    "        print(f\"Predicted Class: {predicted_class}\")\n",
    "        \n",
    "        # Display the original and predicted images\n",
    "        plt.figure(figsize=(8, 4))\n",
    "        plt.subplot(1, 2, 1)\n",
    "        plt.imshow(img_array.reshape(28, 28), cmap='gray')\n",
    "        plt.title(\"Original Image\")\n",
    "        plt.subplot(1, 2, 2)\n",
    "        plt.imshow(img_array.reshape(28, 28), cmap='gray')\n",
    "        plt.title(f\"Predicted: {predicted_class}\")\n",
    "        plt.show()\n",
    "    except json.JSONDecodeError as e:\n",
    "        print(f\"Error decoding JSON: {e}\")\n",
    "else:\n",
    "    print(f\"Request failed with status: {result.status_code}\")\n"
   ]
  },
  {
   "cell_type": "code",
   "execution_count": null,
   "id": "84317ee2-d913-4db4-b67f-570209229c77",
   "metadata": {},
   "outputs": [],
   "source": []
  }
 ],
 "metadata": {
  "kernelspec": {
   "display_name": "Python 3 (ipykernel)",
   "language": "python",
   "name": "python3"
  },
  "language_info": {
   "codemirror_mode": {
    "name": "ipython",
    "version": 3
   },
   "file_extension": ".py",
   "mimetype": "text/x-python",
   "name": "python",
   "nbconvert_exporter": "python",
   "pygments_lexer": "ipython3",
   "version": "3.10.12"
  }
 },
 "nbformat": 4,
 "nbformat_minor": 5
}
